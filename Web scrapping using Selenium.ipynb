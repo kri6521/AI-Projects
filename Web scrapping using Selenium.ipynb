{
 "cells": [
  {
   "cell_type": "code",
   "execution_count": 1,
   "id": "5e904680-ee6a-4b58-9e7c-fd3e44978afc",
   "metadata": {},
   "outputs": [
    {
     "name": "stdout",
     "output_type": "stream",
     "text": [
      "Requirement already satisfied: selenium in c:\\users\\kriti\\appdata\\local\\programs\\python\\python311\\lib\\site-packages (4.29.0)\n",
      "Requirement already satisfied: urllib3<3,>=1.26 in c:\\users\\kriti\\appdata\\local\\programs\\python\\python311\\lib\\site-packages (from urllib3[socks]<3,>=1.26->selenium) (2.3.0)\n",
      "Requirement already satisfied: trio~=0.17 in c:\\users\\kriti\\appdata\\local\\programs\\python\\python311\\lib\\site-packages (from selenium) (0.29.0)\n",
      "Requirement already satisfied: trio-websocket~=0.9 in c:\\users\\kriti\\appdata\\local\\programs\\python\\python311\\lib\\site-packages (from selenium) (0.12.2)\n",
      "Requirement already satisfied: certifi>=2021.10.8 in c:\\users\\kriti\\appdata\\local\\programs\\python\\python311\\lib\\site-packages (from selenium) (2023.7.22)\n",
      "Requirement already satisfied: typing_extensions~=4.9 in c:\\users\\kriti\\appdata\\local\\programs\\python\\python311\\lib\\site-packages (from selenium) (4.12.2)\n",
      "Requirement already satisfied: websocket-client~=1.8 in c:\\users\\kriti\\appdata\\local\\programs\\python\\python311\\lib\\site-packages (from selenium) (1.8.0)\n",
      "Requirement already satisfied: attrs>=23.2.0 in c:\\users\\kriti\\appdata\\local\\programs\\python\\python311\\lib\\site-packages (from trio~=0.17->selenium) (25.3.0)\n",
      "Requirement already satisfied: sortedcontainers in c:\\users\\kriti\\appdata\\local\\programs\\python\\python311\\lib\\site-packages (from trio~=0.17->selenium) (2.4.0)\n",
      "Requirement already satisfied: idna in c:\\users\\kriti\\appdata\\local\\programs\\python\\python311\\lib\\site-packages (from trio~=0.17->selenium) (3.4)\n",
      "Requirement already satisfied: outcome in c:\\users\\kriti\\appdata\\local\\programs\\python\\python311\\lib\\site-packages (from trio~=0.17->selenium) (1.3.0.post0)\n",
      "Requirement already satisfied: sniffio>=1.3.0 in c:\\users\\kriti\\appdata\\local\\programs\\python\\python311\\lib\\site-packages (from trio~=0.17->selenium) (1.3.0)\n",
      "Requirement already satisfied: cffi>=1.14 in c:\\users\\kriti\\appdata\\local\\programs\\python\\python311\\lib\\site-packages (from trio~=0.17->selenium) (1.15.1)\n",
      "Requirement already satisfied: wsproto>=0.14 in c:\\users\\kriti\\appdata\\local\\programs\\python\\python311\\lib\\site-packages (from trio-websocket~=0.9->selenium) (1.2.0)\n",
      "Requirement already satisfied: pysocks!=1.5.7,<2.0,>=1.5.6 in c:\\users\\kriti\\appdata\\local\\programs\\python\\python311\\lib\\site-packages (from urllib3[socks]<3,>=1.26->selenium) (1.7.1)\n",
      "Requirement already satisfied: pycparser in c:\\users\\kriti\\appdata\\local\\programs\\python\\python311\\lib\\site-packages (from cffi>=1.14->trio~=0.17->selenium) (2.21)\n",
      "Requirement already satisfied: h11<1,>=0.9.0 in c:\\users\\kriti\\appdata\\local\\programs\\python\\python311\\lib\\site-packages (from wsproto>=0.14->trio-websocket~=0.9->selenium) (0.14.0)\n"
     ]
    },
    {
     "name": "stderr",
     "output_type": "stream",
     "text": [
      "WARNING: Ignoring invalid distribution ~oogle-ai-generativelanguage (C:\\Users\\kriti\\AppData\\Local\\Programs\\Python\\Python311\\Lib\\site-packages)\n",
      "WARNING: Ignoring invalid distribution ~rotobuf (C:\\Users\\kriti\\AppData\\Local\\Programs\\Python\\Python311\\Lib\\site-packages)\n",
      "DEPRECATION: Loading egg at c:\\users\\kriti\\appdata\\local\\programs\\python\\python311\\lib\\site-packages\\face_recognition-1.3.0-py3.11.egg is deprecated. pip 25.1 will enforce this behaviour change. A possible replacement is to use pip for package installation. Discussion can be found at https://github.com/pypa/pip/issues/12330\n",
      "WARNING: Ignoring invalid distribution ~oogle-ai-generativelanguage (C:\\Users\\kriti\\AppData\\Local\\Programs\\Python\\Python311\\Lib\\site-packages)\n",
      "WARNING: Ignoring invalid distribution ~rotobuf (C:\\Users\\kriti\\AppData\\Local\\Programs\\Python\\Python311\\Lib\\site-packages)\n",
      "WARNING: Ignoring invalid distribution ~oogle-ai-generativelanguage (C:\\Users\\kriti\\AppData\\Local\\Programs\\Python\\Python311\\Lib\\site-packages)\n",
      "WARNING: Ignoring invalid distribution ~rotobuf (C:\\Users\\kriti\\AppData\\Local\\Programs\\Python\\Python311\\Lib\\site-packages)\n"
     ]
    }
   ],
   "source": [
    "!pip install selenium"
   ]
  },
  {
   "cell_type": "code",
   "execution_count": 2,
   "id": "758e151c-133e-4e12-8044-dc5c14f37225",
   "metadata": {},
   "outputs": [],
   "source": [
    "from selenium import webdriver\n",
    "from selenium.webdriver.chrome.options import Options\n",
    "from selenium.webdriver.common.by import By\n",
    "from selenium.webdriver.common.keys import Keys\n",
    "import time\n",
    "import csv\n",
    "import tempfile"
   ]
  },
  {
   "cell_type": "code",
   "execution_count": 3,
   "id": "ff35d28c-64e4-4d9d-a83b-bd198cbc3359",
   "metadata": {},
   "outputs": [],
   "source": [
    "# Setup Selenium WebDriver\n",
    "options = webdriver.ChromeOptions()\n",
    "options.add_argument(\"--disable-blink-features=AutomationControlled\")\n",
    "options.add_argument(\"--start-maximized\")\n",
    "\n",
    "driver = webdriver.Chrome(options=options)"
   ]
  },
  {
   "cell_type": "code",
   "execution_count": 4,
   "id": "fe575103-4818-4bd7-ab80-932bd258c79f",
   "metadata": {},
   "outputs": [],
   "source": [
    "# Define search query\n",
    "search_query = \"restaurants in Downtown Toronto\"\n",
    "google_url = f\"https://www.google.com/search?q={search_query.replace(' ', '+')}\"\n",
    "driver.get(google_url)\n",
    "time.sleep(3)  # Allow page to load"
   ]
  },
  {
   "cell_type": "code",
   "execution_count": 5,
   "id": "616fa18f-af15-4866-a10a-27a193f1eca9",
   "metadata": {},
   "outputs": [],
   "source": [
    "# Scroll down to load more results\n",
    "for _ in range(5):  \n",
    "    driver.find_element(By.TAG_NAME, \"body\").send_keys(Keys.PAGE_DOWN)\n",
    "    time.sleep(3)  # for new results to load"
   ]
  },
  {
   "cell_type": "code",
   "execution_count": 6,
   "id": "3430b2b2-b011-482f-84fd-0e84ae27510e",
   "metadata": {},
   "outputs": [
    {
     "name": "stdout",
     "output_type": "stream",
     "text": [
      "Found 3 results.\n"
     ]
    }
   ],
   "source": [
    "# Find restaurant listings\n",
    "restaurants = []\n",
    "results = driver.find_elements(By.CLASS_NAME, \"VkpGBb\")  \n",
    "print(\"Found\", len(results), \"results.\")"
   ]
  },
  {
   "cell_type": "code",
   "execution_count": 7,
   "id": "bf378ab1-d98d-4808-967d-4fc25531b234",
   "metadata": {},
   "outputs": [
    {
     "name": "stdout",
     "output_type": "stream",
     "text": [
      "Result 0: Richmond Station, Rated 4.7 out of 5,, Richmond Station\n",
      "4.7(3.3K) · $100+ · Canadian\n",
      "1 Richmond St W\n",
      "Closed ⋅ Opens 11:30 am\n",
      "Chef-driven stop for seasonal dishes, $100+\n",
      "Result 1: Byblos Downtown, Rated 4.5 out of 5,, Byblos Downtown\n",
      "4.5(3.4K) · ₹₹₹ · Middle Eastern\n",
      "11 Duncan St\n",
      "Closed ⋅ Opens 5 pm\n",
      "Upscale Eastern Mediterranean dining, N/A\n",
      "Result 2: JOEY Eaton Centre, Rated 4.5 out of 5,, JOEY Eaton Centre\n",
      "4.5(6.5K) · ₹₹ · Restaurant\n",
      "1 Dundas St W\n",
      "Closes soon ⋅ 1 am\n",
      "Global comfort food in a modern setting, N/A\n"
     ]
    }
   ],
   "source": [
    "for i, result in enumerate(results):\n",
    "    try:\n",
    "        name = result.find_element(By.CLASS_NAME, \"dbg0pd\").text  # Restaurant name\n",
    "    except Exception:\n",
    "        name = \"N/A\"\n",
    "    \n",
    "    try:\n",
    "        rating_element = result.find_element(By.XPATH, \".//span[contains(@aria-label, 'Rated')]\")\n",
    "        rating = rating_element.get_attribute(\"aria-label\")\n",
    "    except Exception:\n",
    "        rating = \"N/A\"\n",
    "    \n",
    "    try:\n",
    "        address = result.find_element(By.CLASS_NAME, \"rllt__details\").text  # Address\n",
    "    except Exception:\n",
    "        address = \"N/A\"\n",
    "    \n",
    "    try:\n",
    "        phone_number = result.find_element(By.CLASS_NAME, \"rllt__wrapped\").text  # Phone number (if available)\n",
    "    except Exception:\n",
    "        phone_number = \"N/A\"\n",
    "    \n",
    "    print(f\"Result {i}: {name}, {rating}, {address}, {phone_number}\")\n",
    "    restaurants.append([name, rating, address, phone_number])  "
   ]
  },
  {
   "cell_type": "code",
   "execution_count": 8,
   "id": "8f6034d1-b76e-4630-b669-694bc7eda4c6",
   "metadata": {},
   "outputs": [
    {
     "name": "stdout",
     "output_type": "stream",
     "text": [
      "Data saved to restaurants_selenium.csv\n"
     ]
    }
   ],
   "source": [
    "import pandas as pd\n",
    "\n",
    "df = pd.DataFrame(restaurants, columns=[\"Name\", \"Rating\", \"Address\", \"Phone Number\"])\n",
    "\n",
    "# Save to CSV\n",
    "csv_file = \"restaurants_selenium.csv\"\n",
    "df.to_csv(csv_file, index=False, encoding=\"utf-8-sig\")\n",
    "print(f\"Data saved to {csv_file}\")"
   ]
  },
  {
   "cell_type": "code",
   "execution_count": null,
   "id": "40e4b8c8-a773-4e16-a23a-0e8e1ec2898c",
   "metadata": {},
   "outputs": [],
   "source": [
    "'''\n",
    "NOTE: Getting all the details through selenium is a bit risky as we are using google url for search, I tried to get the information about \"more places\" \n",
    "but it was beyond their security purpose.\n",
    "\n",
    "Instead we can use \"WebBaseLoader\" and a LLM to get  "
   ]
  }
 ],
 "metadata": {
  "kernelspec": {
   "display_name": "Python 3 (ipykernel)",
   "language": "python",
   "name": "python3"
  },
  "language_info": {
   "codemirror_mode": {
    "name": "ipython",
    "version": 3
   },
   "file_extension": ".py",
   "mimetype": "text/x-python",
   "name": "python",
   "nbconvert_exporter": "python",
   "pygments_lexer": "ipython3",
   "version": "3.11.4"
  }
 },
 "nbformat": 4,
 "nbformat_minor": 5
}
