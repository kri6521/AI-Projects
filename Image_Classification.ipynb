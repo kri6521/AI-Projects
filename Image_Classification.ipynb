{
  "nbformat": 4,
  "nbformat_minor": 0,
  "metadata": {
    "colab": {
      "provenance": [],
      "gpuType": "T4"
    },
    "kernelspec": {
      "name": "python3",
      "display_name": "Python 3"
    },
    "language_info": {
      "name": "python"
    },
    "accelerator": "GPU"
  },
  "cells": [
    {
      "cell_type": "code",
      "execution_count": 1,
      "metadata": {
        "id": "2SmEXQTsINI_"
      },
      "outputs": [],
      "source": [
        "!mkdir -p ~/.kaggle\n",
        "!cp kaggle.json ~/.kaggle/"
      ]
    },
    {
      "cell_type": "code",
      "source": [
        "!kaggle datasets download -d salader/dogs-vs-cats"
      ],
      "metadata": {
        "colab": {
          "base_uri": "https://localhost:8080/"
        },
        "id": "nXa2x6BeIRZO",
        "outputId": "a259d1ac-aa1f-4ce6-d2b7-3368abfab85e"
      },
      "execution_count": 2,
      "outputs": [
        {
          "output_type": "stream",
          "name": "stdout",
          "text": [
            "Warning: Your Kaggle API key is readable by other users on this system! To fix this, you can run 'chmod 600 /root/.kaggle/kaggle.json'\n",
            "Dataset URL: https://www.kaggle.com/datasets/salader/dogs-vs-cats\n",
            "License(s): unknown\n",
            "dogs-vs-cats.zip: Skipping, found more recently modified local copy (use --force to force download)\n"
          ]
        }
      ]
    },
    {
      "cell_type": "code",
      "source": [
        "import zipfile\n",
        "zip_ref = zipfile.ZipFile('/content/dogs-vs-cats.zip', 'r')\n",
        "zip_ref.extractall('/content')\n",
        "zip_ref.close()"
      ],
      "metadata": {
        "id": "JBPF4znzITt9"
      },
      "execution_count": 3,
      "outputs": []
    },
    {
      "cell_type": "code",
      "source": [
        "import tensorflow as tf\n",
        "from tensorflow import keras\n",
        "from keras import Sequential\n",
        "from keras.layers import Dense, Conv2D, MaxPooling2D, Flatten, BatchNormalization, Dropout"
      ],
      "metadata": {
        "id": "DTTbTwR7IV9z"
      },
      "execution_count": 4,
      "outputs": []
    },
    {
      "cell_type": "code",
      "source": [
        "# generators\n",
        "train_ds = keras.utils.image_dataset_from_directory(\n",
        "    directory='/content/train',\n",
        "    labels='inferred',\n",
        "    label_mode='int',\n",
        "    batch_size=16,\n",
        "    image_size=(128, 128)\n",
        ")\n",
        "\n",
        "validation_ds = keras.utils.image_dataset_from_directory(\n",
        "    directory='/content/test',\n",
        "    labels='inferred',\n",
        "    label_mode='int',\n",
        "    batch_size=16,\n",
        "    image_size=(128, 128)\n",
        ")"
      ],
      "metadata": {
        "colab": {
          "base_uri": "https://localhost:8080/"
        },
        "id": "Ry0xkwnmIYcZ",
        "outputId": "702d7fde-eb4e-441b-b3dc-5e9a4c3dc022"
      },
      "execution_count": 5,
      "outputs": [
        {
          "output_type": "stream",
          "name": "stdout",
          "text": [
            "Found 20000 files belonging to 2 classes.\n",
            "Found 5000 files belonging to 2 classes.\n"
          ]
        }
      ]
    },
    {
      "cell_type": "code",
      "source": [
        "# normalize\n",
        "def process(image, label):\n",
        "    image = tf.cast(image/255. ,tf.float32)\n",
        "    return image, label\n",
        "\n",
        "train_ds = train_ds.map(process)\n",
        "validation_ds = validation_ds.map(process)"
      ],
      "metadata": {
        "id": "Nz6tSsjmIexL"
      },
      "execution_count": 6,
      "outputs": []
    },
    {
      "cell_type": "code",
      "source": [
        "# Feature extraction using a pre-trained CNN (VGG16)\n",
        "from tensorflow.keras.applications import MobileNetV2\n",
        "import numpy as np\n",
        "base_model = MobileNetV2(weights='imagenet', include_top=False, input_shape=(128, 128, 3))\n",
        "\n",
        "def extract_features_fast(dataset):\n",
        "    features = []\n",
        "    labels = []\n",
        "    for images, batch_labels in dataset.as_numpy_iterator():\n",
        "        batch_features = base_model.predict(images, verbose=0)\n",
        "        features.append(batch_features)\n",
        "        labels.append(batch_labels)\n",
        "    return np.vstack(features), np.concatenate(labels)\n",
        "\n",
        "train_features, train_labels = extract_features_fast(train_ds)\n",
        "validation_features, validation_labels = extract_features_fast(validation_ds)"
      ],
      "metadata": {
        "colab": {
          "base_uri": "https://localhost:8080/"
        },
        "id": "3QaWZH81IkXJ",
        "outputId": "a042729b-a21b-4449-c087-73ca282387b5"
      },
      "execution_count": 7,
      "outputs": [
        {
          "output_type": "stream",
          "name": "stdout",
          "text": [
            "Downloading data from https://storage.googleapis.com/tensorflow/keras-applications/mobilenet_v2/mobilenet_v2_weights_tf_dim_ordering_tf_kernels_1.0_128_no_top.h5\n",
            "\u001b[1m9406464/9406464\u001b[0m \u001b[32m━━━━━━━━━━━━━━━━━━━━\u001b[0m\u001b[37m\u001b[0m \u001b[1m0s\u001b[0m 0us/step\n"
          ]
        }
      ]
    },
    {
      "cell_type": "code",
      "source": [
        "# Reshape features for SVM\n",
        "train_features = train_features.reshape(train_features.shape[0], -1)\n",
        "validation_features = validation_features.reshape(validation_features.shape[0], -1)"
      ],
      "metadata": {
        "id": "hGjUXvCi25w1"
      },
      "execution_count": 8,
      "outputs": []
    },
    {
      "cell_type": "code",
      "source": [
        "# SVM Implementation\n",
        "from sklearn.svm import SVC\n",
        "from sklearn.metrics import accuracy_score\n",
        "\n",
        "svm_classifier = SVC(kernel='linear', C=1.0)\n",
        "svm_classifier.fit(train_features, train_labels)\n",
        "\n",
        "predictions = svm_classifier.predict(validation_features)\n",
        "accuracy = accuracy_score(validation_labels, predictions)\n",
        "print(f\"Accuracy: {accuracy}\")"
      ],
      "metadata": {
        "id": "_T2rksyVIr6n",
        "colab": {
          "base_uri": "https://localhost:8080/"
        },
        "outputId": "e7add0eb-ea45-4091-e565-c4adbf88b60c"
      },
      "execution_count": 9,
      "outputs": [
        {
          "output_type": "stream",
          "name": "stdout",
          "text": [
            "Accuracy: 0.9656\n"
          ]
        }
      ]
    },
    {
      "cell_type": "code",
      "source": [
        "# prediction on new data\n",
        "import cv2\n",
        "\n",
        "# Load and preprocess the new image\n",
        "test_img = cv2.imread('/content/dog.jpeg')\n",
        "test_img = cv2.resize(test_img, (128, 128))\n",
        "test_img = test_img.reshape((1, 128, 128, 3))\n",
        "\n",
        "# Extract features from the new image using the pre-trained model\n",
        "test_features = base_model.predict(test_img)\n",
        "test_features = test_features.reshape(1, -1)  # Flatten features\n",
        "\n",
        "# Make prediction using the SVM classifier\n",
        "prediction = svm_classifier.predict(test_features)\n",
        "\n",
        "# Interpret the prediction (0 for cat, 1 for dog)\n",
        "if prediction[0] == 0:\n",
        "    print(\"Predicted class: Cat\")\n",
        "else:\n",
        "    print(\"Predicted class: Dog\")"
      ],
      "metadata": {
        "id": "q9ZeLDS8IwNE",
        "colab": {
          "base_uri": "https://localhost:8080/"
        },
        "outputId": "65fa2b19-4f62-4328-fa89-a83b3450e012"
      },
      "execution_count": 12,
      "outputs": [
        {
          "output_type": "stream",
          "name": "stdout",
          "text": [
            "\u001b[1m1/1\u001b[0m \u001b[32m━━━━━━━━━━━━━━━━━━━━\u001b[0m\u001b[37m\u001b[0m \u001b[1m0s\u001b[0m 47ms/step\n",
            "Predicted class: Dog\n"
          ]
        }
      ]
    },
    {
      "cell_type": "code",
      "source": [],
      "metadata": {
        "id": "l1VEr5-1_EkH"
      },
      "execution_count": null,
      "outputs": []
    }
  ]
}